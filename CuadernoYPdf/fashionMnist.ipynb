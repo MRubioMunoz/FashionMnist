{
  "nbformat": 4,
  "nbformat_minor": 0,
  "metadata": {
    "colab": {
      "name": "fashionMnist.ipynb",
      "provenance": []
    },
    "kernelspec": {
      "name": "python3",
      "display_name": "Python 3"
    },
    "language_info": {
      "name": "python"
    },
    "accelerator": "GPU"
  },
  "cells": [
    {
      "cell_type": "markdown",
      "source": [
        "#Importamos las librerias que vamos a usar y descargamos el dataset de fashion_mnist"
      ],
      "metadata": {
        "id": "4gk4G8-AE762"
      }
    },
    {
      "cell_type": "code",
      "execution_count": null,
      "metadata": {
        "id": "kKIJPgs18oGS"
      },
      "outputs": [],
      "source": [
        "# Libraries to handle data\n",
        "import matplotlib.pyplot as plt\n",
        "import numpy as np\n",
        "\n",
        "# Libraries to handle neural networks\n",
        "import keras\n",
        "import tensorflow as tf"
      ]
    },
    {
      "cell_type": "code",
      "source": [
        "(train_images, train_labels), (test_images, test_labels) = tf.keras.datasets.fashion_mnist.load_data()"
      ],
      "metadata": {
        "id": "94qwZhKO8_5R",
        "colab": {
          "base_uri": "https://localhost:8080/"
        },
        "outputId": "3d9bd24a-4d7f-4cd3-f951-f2bf6037b02c"
      },
      "execution_count": null,
      "outputs": [
        {
          "output_type": "stream",
          "name": "stdout",
          "text": [
            "Downloading data from https://storage.googleapis.com/tensorflow/tf-keras-datasets/train-labels-idx1-ubyte.gz\n",
            "32768/29515 [=================================] - 0s 0us/step\n",
            "40960/29515 [=========================================] - 0s 0us/step\n",
            "Downloading data from https://storage.googleapis.com/tensorflow/tf-keras-datasets/train-images-idx3-ubyte.gz\n",
            "26427392/26421880 [==============================] - 0s 0us/step\n",
            "26435584/26421880 [==============================] - 0s 0us/step\n",
            "Downloading data from https://storage.googleapis.com/tensorflow/tf-keras-datasets/t10k-labels-idx1-ubyte.gz\n",
            "16384/5148 [===============================================================================================] - 0s 0us/step\n",
            "Downloading data from https://storage.googleapis.com/tensorflow/tf-keras-datasets/t10k-images-idx3-ubyte.gz\n",
            "4423680/4422102 [==============================] - 0s 0us/step\n",
            "4431872/4422102 [==============================] - 0s 0us/step\n"
          ]
        }
      ]
    },
    {
      "cell_type": "markdown",
      "source": [
        "#Comprobamos si los datos tienen la cantidad correcta y mostramos una de las imagenes "
      ],
      "metadata": {
        "id": "ApHILeXoEy3y"
      }
    },
    {
      "cell_type": "code",
      "source": [
        "print(train_images.shape)\n",
        "print(len(train_labels))\n",
        "print(test_images.shape)\n",
        "print(len(test_labels))\n",
        "print(np.unique(train_labels))"
      ],
      "metadata": {
        "colab": {
          "base_uri": "https://localhost:8080/"
        },
        "id": "ivsQLzRSAWr2",
        "outputId": "58b81ee1-0ba0-406a-f239-c94376f2ebbe"
      },
      "execution_count": null,
      "outputs": [
        {
          "output_type": "stream",
          "name": "stdout",
          "text": [
            "(60000, 28, 28)\n",
            "60000\n",
            "(10000, 28, 28)\n",
            "10000\n",
            "[0 1 2 3 4 5 6 7 8 9]\n"
          ]
        }
      ]
    },
    {
      "cell_type": "markdown",
      "source": [
        "# Mostramos una de las imagenes "
      ],
      "metadata": {
        "id": "e_YJ8Bc_E2c-"
      }
    },
    {
      "cell_type": "code",
      "source": [
        "plt.figure()\n",
        "plt.imshow(train_images[10])\n",
        "plt.colorbar()\n",
        "plt.grid(False)\n",
        "plt.show()"
      ],
      "metadata": {
        "colab": {
          "base_uri": "https://localhost:8080/",
          "height": 265
        },
        "id": "yVbphfv0BfaV",
        "outputId": "44bc1f34-be93-4ef8-99aa-cb6639b5d492"
      },
      "execution_count": null,
      "outputs": [
        {
          "output_type": "display_data",
          "data": {
            "text/plain": [
              "<Figure size 432x288 with 2 Axes>"
            ],
            "image/png": "[encoded data removed]"
          },
          "metadata": {
            "needs_background": "light"
          }
        }
      ]
    },
    {
      "cell_type": "markdown",
      "source": [
        "#Normalizamos los datos dividienolos entre 255 para que sus valores se situen entre 0 y 1"
      ],
      "metadata": {
        "id": "61ag0LytFFV4"
      }
    },
    {
      "cell_type": "code",
      "source": [
        "train_images = train_images / 255.0\n",
        "test_images = test_images / 255.0"
      ],
      "metadata": {
        "id": "OlDHz8RhCIbV"
      },
      "execution_count": null,
      "outputs": []
    },
    {
      "cell_type": "markdown",
      "source": [
        "#Instanciamos la red neuronal, mostramos sus capas y la compilamos"
      ],
      "metadata": {
        "id": "SKkzJkgEFJL6"
      }
    },
    {
      "cell_type": "code",
      "source": [
        "model = keras.Sequential([\n",
        "        keras.layers.Flatten(input_shape = (28,28)),\n",
        "        keras.layers.Dense(512, activation = 'relu', kernel_initializer = 'he_uniform'),\n",
        "        keras.layers.Dense(10, activation = 'softmax')\n",
        "])"
      ],
      "metadata": {
        "id": "s1DnFJsAEKgd"
      },
      "execution_count": null,
      "outputs": []
    },
    {
      "cell_type": "code",
      "source": [
        "model.summary()"
      ],
      "metadata": {
        "colab": {
          "base_uri": "https://localhost:8080/"
        },
        "id": "FkPS9KibFeow",
        "outputId": "e8e4e858-06d8-4dc6-c043-2827375aa50e"
      },
      "execution_count": null,
      "outputs": [
        {
          "output_type": "stream",
          "name": "stdout",
          "text": [
            "Model: \"sequential\"\n",
            "_________________________________________________________________\n",
            " Layer (type)                Output Shape              Param #   \n",
            "=================================================================\n",
            " flatten (Flatten)           (None, 784)               0         \n",
            "                                                                 \n",
            " dense (Dense)               (None, 512)               401920    \n",
            "                                                                 \n",
            " dense_1 (Dense)             (None, 10)                5130      \n",
            "                                                                 \n",
            "=================================================================\n",
            "Total params: 407,050\n",
            "Trainable params: 407,050\n",
            "Non-trainable params: 0\n",
            "_________________________________________________________________\n"
          ]
        }
      ]
    },
    {
      "cell_type": "code",
      "source": [
        "model.compile(\n",
        "    optimizer='adam', \n",
        "    loss = 'sparse_categorical_crossentropy',\n",
        "    metrics=['accuracy'] )"
      ],
      "metadata": {
        "id": "CA88KAKKFjtU"
      },
      "execution_count": null,
      "outputs": []
    },
    {
      "cell_type": "markdown",
      "source": [
        "# Entrenamos el modelo \n"
      ],
      "metadata": {
        "id": "unbiUsBkFNIs"
      }
    },
    {
      "cell_type": "code",
      "source": [
        "model.fit(train_images, train_labels, batch_size=64, epochs = 10)"
      ],
      "metadata": {
        "colab": {
          "base_uri": "https://localhost:8080/"
        },
        "id": "vqrJSBXcFSlO",
        "outputId": "ed6ab932-a2d7-449f-9720-f25d72d54f8a"
      },
      "execution_count": null,
      "outputs": [
        {
          "output_type": "stream",
          "name": "stdout",
          "text": [
            "Epoch 1/10\n",
            "938/938 [==============================] - 9s 5ms/step - loss: 0.4840 - accuracy: 0.8302\n",
            "Epoch 2/10\n",
            "938/938 [==============================] - 5s 5ms/step - loss: 0.3605 - accuracy: 0.8696\n",
            "Epoch 3/10\n",
            "938/938 [==============================] - 5s 5ms/step - loss: 0.3228 - accuracy: 0.8812\n",
            "Epoch 4/10\n",
            "938/938 [==============================] - 3s 3ms/step - loss: 0.2985 - accuracy: 0.8893\n",
            "Epoch 5/10\n",
            "938/938 [==============================] - 3s 3ms/step - loss: 0.2787 - accuracy: 0.8959\n",
            "Epoch 6/10\n",
            "938/938 [==============================] - 3s 3ms/step - loss: 0.2653 - accuracy: 0.9018\n",
            "Epoch 7/10\n",
            "938/938 [==============================] - 3s 3ms/step - loss: 0.2530 - accuracy: 0.9051\n",
            "Epoch 8/10\n",
            "938/938 [==============================] - 3s 3ms/step - loss: 0.2404 - accuracy: 0.9112\n",
            "Epoch 9/10\n",
            "938/938 [==============================] - 3s 3ms/step - loss: 0.2276 - accuracy: 0.9161\n",
            "Epoch 10/10\n",
            "938/938 [==============================] - 3s 3ms/step - loss: 0.2214 - accuracy: 0.9171\n"
          ]
        },
        {
          "output_type": "execute_result",
          "data": {
            "text/plain": [
              "<keras.callbacks.History at 0x7faf82c10710>"
            ]
          },
          "metadata": {},
          "execution_count": 9
        }
      ]
    },
    {
      "cell_type": "markdown",
      "source": [
        "# Mostramos la perdida y la precision del modelo"
      ],
      "metadata": {
        "id": "PZ__PRdCKNHV"
      }
    },
    {
      "cell_type": "code",
      "source": [
        "test_loss, test_acc = model.evaluate(test_images, test_labels, verbose=0)\n",
        "print('\\nTest loss:', test_loss)\n",
        "print('\\nTest accuracy:', test_acc)"
      ],
      "metadata": {
        "colab": {
          "base_uri": "https://localhost:8080/"
        },
        "id": "38tQtFzFF4vR",
        "outputId": "b4fb41d8-86de-40cb-f7cf-39ce36aa6493"
      },
      "execution_count": null,
      "outputs": [
        {
          "output_type": "stream",
          "name": "stdout",
          "text": [
            "\n",
            "Test loss: 0.32814812660217285\n",
            "\n",
            "Test accuracy: 0.8848999738693237\n"
          ]
        }
      ]
    },
    {
      "cell_type": "markdown",
      "source": [
        "# Parte de pruebas donde se han realizado los distintos ejemplos de las tablas. Al final he dejado solo el que se usa en el proyecto, ya que he ido sustituyendo los valores para comprobar los resultados."
      ],
      "metadata": {
        "id": "7KnC7VD1KewO"
      }
    },
    {
      "cell_type": "markdown",
      "source": [
        "# Instanciamos y compilamos la red elegida tras las distintas pruebas realizadas"
      ],
      "metadata": {
        "id": "6vNhyusUKaDE"
      }
    },
    {
      "cell_type": "code",
      "source": [
        "initializer = tf.keras.initializers.GlorotUniform()\n",
        "modelPrueba = keras.Sequential([\n",
        "        keras.layers.Flatten(input_shape = (28,28)),\n",
        "        keras.layers.Dense(1024, activation = 'relu', kernel_initializer = 'he_uniform'),\n",
        "        keras.layers.Dense(10, activation = 'softmax')\n",
        "])\n",
        "modelPrueba.summary()\n",
        "modelPrueba.compile(optimizer='adam', loss = 'sparse_categorical_crossentropy',metrics=['accuracy'] )\n",
        "\n",
        "#sparse_categorical_crossentropy\n",
        "#mean_squared_error"
      ],
      "metadata": {
        "colab": {
          "base_uri": "https://localhost:8080/"
        },
        "id": "Gzd1OKoMKdyL",
        "outputId": "993dee8a-4411-4686-b727-1d594d5e05da"
      },
      "execution_count": null,
      "outputs": [
        {
          "output_type": "stream",
          "name": "stdout",
          "text": [
            "Model: \"sequential_1\"\n",
            "_________________________________________________________________\n",
            " Layer (type)                Output Shape              Param #   \n",
            "=================================================================\n",
            " flatten_1 (Flatten)         (None, 784)               0         \n",
            "                                                                 \n",
            " dense_2 (Dense)             (None, 1024)              803840    \n",
            "                                                                 \n",
            " dense_3 (Dense)             (None, 10)                10250     \n",
            "                                                                 \n",
            "=================================================================\n",
            "Total params: 814,090\n",
            "Trainable params: 814,090\n",
            "Non-trainable params: 0\n",
            "_________________________________________________________________\n"
          ]
        }
      ]
    },
    {
      "cell_type": "markdown",
      "source": [
        "# Entrenamos la red y mostramos tanto su perdida como su precisión"
      ],
      "metadata": {
        "id": "BMCmVfrEKjLo"
      }
    },
    {
      "cell_type": "code",
      "source": [
        "modelPrueba.fit(train_images, train_labels, batch_size=64, epochs = 10)\n",
        "test_loss, test_acc = modelPrueba.evaluate(test_images, test_labels, verbose=0)\n",
        "print('\\nTest loss:', test_loss)\n",
        "print('\\nTest accuracy:', test_acc)"
      ],
      "metadata": {
        "colab": {
          "base_uri": "https://localhost:8080/"
        },
        "id": "zYhb3VR1K04c",
        "outputId": "b6b47caf-e64e-4114-cb68-9486ef3d8f36"
      },
      "execution_count": null,
      "outputs": [
        {
          "output_type": "stream",
          "name": "stdout",
          "text": [
            "Epoch 1/10\n",
            "938/938 [==============================] - 4s 4ms/step - loss: 0.4727 - accuracy: 0.8326\n",
            "Epoch 2/10\n",
            "938/938 [==============================] - 3s 4ms/step - loss: 0.3549 - accuracy: 0.8725\n",
            "Epoch 3/10\n",
            "938/938 [==============================] - 4s 4ms/step - loss: 0.3163 - accuracy: 0.8829\n",
            "Epoch 4/10\n",
            "938/938 [==============================] - 3s 4ms/step - loss: 0.2964 - accuracy: 0.8890\n",
            "Epoch 5/10\n",
            "938/938 [==============================] - 3s 4ms/step - loss: 0.2767 - accuracy: 0.8971\n",
            "Epoch 6/10\n",
            "938/938 [==============================] - 3s 4ms/step - loss: 0.2619 - accuracy: 0.9033\n",
            "Epoch 7/10\n",
            "938/938 [==============================] - 3s 4ms/step - loss: 0.2476 - accuracy: 0.9076\n",
            "Epoch 8/10\n",
            "938/938 [==============================] - 3s 4ms/step - loss: 0.2349 - accuracy: 0.9118\n",
            "Epoch 9/10\n",
            "938/938 [==============================] - 3s 4ms/step - loss: 0.2226 - accuracy: 0.9167\n",
            "Epoch 10/10\n",
            "938/938 [==============================] - 3s 4ms/step - loss: 0.2149 - accuracy: 0.9195\n",
            "\n",
            "Test loss: 0.31580406427383423\n",
            "\n",
            "Test accuracy: 0.8902999758720398\n"
          ]
        }
      ]
    },
    {
      "cell_type": "markdown",
      "source": [
        "Aqui se puede observar que la precision es de un 89%"
      ],
      "metadata": {
        "id": "oM0MYCt1Lbuh"
      }
    },
    {
      "cell_type": "markdown",
      "source": [
        "# Guardamos como un fichero .h5 el modelo para poder instanciarlo en el proyecto de Django"
      ],
      "metadata": {
        "id": "3Dgl8QF9Kpna"
      }
    },
    {
      "cell_type": "code",
      "source": [
        "modelPrueba.save('model/fashion_mnist.h5')"
      ],
      "metadata": {
        "id": "YbRjkmF2tatk"
      },
      "execution_count": null,
      "outputs": []
    },
    {
      "cell_type": "markdown",
      "source": [
        "Con la función load_model de keras.models podremos instanciar donde queramos el modelo "
      ],
      "metadata": {
        "id": "j9vc_dG7cnVr"
      }
    }
  ]
}